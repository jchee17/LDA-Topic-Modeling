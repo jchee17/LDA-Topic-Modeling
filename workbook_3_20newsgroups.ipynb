{
 "metadata": {
  "name": ""
 },
 "nbformat": 3,
 "nbformat_minor": 0,
 "worksheets": [
  {
   "cells": [
    {
     "cell_type": "markdown",
     "metadata": {},
     "source": [
      "Following this tutorial for text anallysis\n",
      "\n",
      "http://radimrehurek.com/topic_modeling_tutorial/1%20-%20Streamed%20Corpora.html"
     ]
    },
    {
     "cell_type": "code",
     "collapsed": false,
     "input": [
      "import logging\n",
      "import os\n",
      "import sys\n",
      "import re\n",
      "import tarfile\n",
      "import itertools\n",
      "\n",
      "import nltk\n",
      "from nltk.collocations import TrigramCollocationFinder\n",
      "from nltk.metrics import BigramAssocMeasures, TrigramAssocMeasures\n",
      "\n",
      "import gensim\n",
      "from gensim.parsing.preprocessing import STOPWORDS\n",
      "\n",
      "logging.basicConfig(format='%(levelname)s : %(message)s', level=logging.INFO)\n",
      "logging.root.level = logging.INFO  # ipython sometimes \n",
      "#messes up the logging setup; restore"
     ],
     "language": "python",
     "metadata": {},
     "outputs": [],
     "prompt_number": 2
    },
    {
     "cell_type": "code",
     "collapsed": false,
     "input": [
      "# access 20newsgroups tarfile directly from python\n",
      "with tarfile.open('/home/jerry/Data/Hopper_Project/20newsgroups/20news-bydate.tar.gz',\n",
      "                  'r:gz') as tf:\n",
      "    # get infromation (metadata) about all files in tarball\n",
      "    file_infos = [file_info for file_info in tf if file_info.isfile()]\n",
      "    \n",
      "    # print one of them; for example the first one\n",
      "    message = tf.extractfile(file_infos[0]).read()\n",
      "    print(message)\n",
      "                  "
     ],
     "language": "python",
     "metadata": {},
     "outputs": [
      {
       "output_type": "stream",
       "stream": "stdout",
       "text": [
        "From: Nanci Ann Miller <nm0w+@andrew.cmu.edu>\n",
        "Subject: Re: Amusing atheists and agnostics\n",
        "Organization: Sponsored account, School of Computer Science, Carnegie Mellon, Pittsburgh, PA\n",
        "Lines: 33\n",
        "NNTP-Posting-Host: po4.andrew.cmu.edu\n",
        "In-Reply-To: <timmbake.735196735@mcl>\n",
        "\n",
        "timmbake@mcl.ucsb.edu (Bake Timmons) writes:\n",
        "> There lies the hypocrisy, dude.  Atheism takes as much faith as theism.  \n",
        "> Admit it!\n",
        "\n",
        "Some people might think it takes faith to be an atheist... but faith in\n",
        "what?  Does it take some kind of faith to say that the Great Invisible Pink\n",
        "Unicorn does not exist?  Does it take some kind of faith to say that Santa\n",
        "Claus does not exist?  If it does (and it may for some people I suppose) it\n",
        "certainly isn't as big a leap of faith to say that these things (and god)\n",
        "DO exist.  (I suppose it depends on your notion and definition of \"faith\".)\n",
        "\n",
        "Besides... not believing in a god means one doesn't have to deal with all\n",
        "of the extra baggage that comes with it!  This leaves a person feeling\n",
        "wonderfully free, especially after beaten over the head with it for years!\n",
        "I agree that religion and belief is often an important psychological healer\n",
        "for many people and for that reason I think it's important.  However,\n",
        "trying to force a psychological fantasy (I don't mean that in a bad way,\n",
        "but that's what it really is) on someone else who isn't interested is\n",
        "extremely rude.  What if I still believed in Santa Claus and said that my\n",
        "belief in Santa did wonderful things for my life (making me a better\n",
        "person, allowing me to live without guilt, etc...) and then tried to get\n",
        "you to believe in Santa too just 'cuz he did so much for me?  You'd call\n",
        "the men in white coats as soon as you could get to a phone.\n",
        "\n",
        "> --\n",
        "> Bake Timmons, III\n",
        "\n",
        "Nanci  (just babbling... :-))\n",
        ".........................................................................\n",
        "If you know (and are SURE of) the author of this quote, please send me\n",
        "email (nm0w+@andrew.cmu.edu):\n",
        "Spring is nature's way of saying, 'Let's party!'\n",
        "\n",
        "\n"
       ]
      }
     ],
     "prompt_number": 32
    },
    {
     "cell_type": "code",
     "collapsed": false,
     "input": [
      "def process_message(message):\n",
      "    \"\"\"\n",
      "    preprocess a single 20newsgroups message, returning the result\n",
      "    as a unicode string.\n",
      "    \n",
      "    \"\"\"\n",
      "    message = gensim.utils.to_unicode(message, 'latin1').strip()\n",
      "    blocks = message.split(u'\\n\\n')\n",
      "    footer_index = len(blocks) - 1\n",
      "    # skip email headers (first block) and footer (last block)\n",
      "    content = u'\\n\\n'.join(blocks[1:footer_index])\n",
      "    return content\n",
      "\n",
      "print process_message(message)"
     ],
     "language": "python",
     "metadata": {},
     "outputs": [
      {
       "output_type": "stream",
       "stream": "stdout",
       "text": [
        "timmbake@mcl.ucsb.edu (Bake Timmons) writes:\n",
        "> There lies the hypocrisy, dude.  Atheism takes as much faith as theism.  \n",
        "> Admit it!\n",
        "\n",
        "Some people might think it takes faith to be an atheist... but faith in\n",
        "what?  Does it take some kind of faith to say that the Great Invisible Pink\n",
        "Unicorn does not exist?  Does it take some kind of faith to say that Santa\n",
        "Claus does not exist?  If it does (and it may for some people I suppose) it\n",
        "certainly isn't as big a leap of faith to say that these things (and god)\n",
        "DO exist.  (I suppose it depends on your notion and definition of \"faith\".)\n",
        "\n",
        "Besides... not believing in a god means one doesn't have to deal with all\n",
        "of the extra baggage that comes with it!  This leaves a person feeling\n",
        "wonderfully free, especially after beaten over the head with it for years!\n",
        "I agree that religion and belief is often an important psychological healer\n",
        "for many people and for that reason I think it's important.  However,\n",
        "trying to force a psychological fantasy (I don't mean that in a bad way,\n",
        "but that's what it really is) on someone else who isn't interested is\n",
        "extremely rude.  What if I still believed in Santa Claus and said that my\n",
        "belief in Santa did wonderful things for my life (making me a better\n",
        "person, allowing me to live without guilt, etc...) and then tried to get\n",
        "you to believe in Santa too just 'cuz he did so much for me?  You'd call\n",
        "the men in white coats as soon as you could get to a phone.\n",
        "\n",
        "> --\n",
        "> Bake Timmons, III\n"
       ]
      }
     ],
     "prompt_number": 33
    },
    {
     "cell_type": "code",
     "collapsed": false,
     "input": [
      "def iter_20newsgroups(fname, log_every=None):\n",
      "    \"\"\"\n",
      "    Yield plain text of each 20 newgroups message, as a unicode\n",
      "    string.\n",
      "    The message are read from raw tar.gz file 'fname'\n",
      "    \n",
      "    \"\"\"\n",
      "    extracted = 0\n",
      "    with tarfile.open(fname, 'r:gz') as tf:\n",
      "        for file_number, file_info in enumerate(tf):\n",
      "            if file_info.isfile():\n",
      "                if log_every and extracted % log_every == 0:\n",
      "                    logging.info(\"extracting 20newsgroups file #%i: %s\"\n",
      "                                 % (extracted, file_info.name))\n",
      "                    content = tf.extractfile(file_info).read()\n",
      "                    yield process_message(content)\n",
      "                    extracted += 1"
     ],
     "language": "python",
     "metadata": {},
     "outputs": [],
     "prompt_number": 41
    },
    {
     "cell_type": "code",
     "collapsed": false,
     "input": [
      "# itertools is an inserparable friend with data streaming\n",
      "# (Python built-in library)\n",
      "import itertools\n",
      "\n",
      "# only parse and print the first 3 messages, lazily\n",
      "# 'list(stream)' materializes the stream elements into a plain\n",
      "# Python list\n",
      "message_stream = iter_20newsgroups('/home/jerry/Data/Hopper_Project/20newsgroups/20news-bydate.tar.gz',\n",
      "                                   log_every=2)\n",
      "print(list(itertools.islice(message_stream, 3)))"
     ],
     "language": "python",
     "metadata": {},
     "outputs": [
      {
       "output_type": "stream",
       "stream": "stderr",
       "text": [
        "INFO:root:extracting 20newsgroups file #0: 20news-bydate-test/alt.atheism/53265\n"
       ]
      },
      {
       "output_type": "stream",
       "stream": "stdout",
       "text": [
        "[u'timmbake@mcl.ucsb.edu (Bake Timmons) writes:\\n> There lies the hypocrisy, dude.  Atheism takes as much faith as theism.  \\n> Admit it!\\n\\nSome people might think it takes faith to be an atheist... but faith in\\nwhat?  Does it take some kind of faith to say that the Great Invisible Pink\\nUnicorn does not exist?  Does it take some kind of faith to say that Santa\\nClaus does not exist?  If it does (and it may for some people I suppose) it\\ncertainly isn\\'t as big a leap of faith to say that these things (and god)\\nDO exist.  (I suppose it depends on your notion and definition of \"faith\".)\\n\\nBesides... not believing in a god means one doesn\\'t have to deal with all\\nof the extra baggage that comes with it!  This leaves a person feeling\\nwonderfully free, especially after beaten over the head with it for years!\\nI agree that religion and belief is often an important psychological healer\\nfor many people and for that reason I think it\\'s important.  However,\\ntrying to force a psychological fantasy (I don\\'t mean that in a bad way,\\nbut that\\'s what it really is) on someone else who isn\\'t interested is\\nextremely rude.  What if I still believed in Santa Claus and said that my\\nbelief in Santa did wonderful things for my life (making me a better\\nperson, allowing me to live without guilt, etc...) and then tried to get\\nyou to believe in Santa too just \\'cuz he did so much for me?  You\\'d call\\nthe men in white coats as soon as you could get to a phone.\\n\\n> --\\n> Bake Timmons, III']\n"
       ]
      }
     ],
     "prompt_number": 42
    }
   ],
   "metadata": {}
  }
 ]
}